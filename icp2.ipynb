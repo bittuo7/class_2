{
 "cells": [
  {
   "cell_type": "code",
   "execution_count": 6,
   "id": "261bcda3-e1e9-4173-a66b-e5240c7859c2",
   "metadata": {},
   "outputs": [
    {
     "name": "stdout",
     "output_type": "stream",
     "text": [
      "Total number of employees: 3\n",
      "Average salary of employees: 76666.67\n"
     ]
    }
   ],
   "source": [
    "class Employee:\n",
    "    employee_count = 0\n",
    "\n",
    "    def __init__(self, name, family, salary, department):\n",
    "        self.name = name\n",
    "        self.family = family\n",
    "        self.salary = salary\n",
    "        self.department = department\n",
    "        Employee.employee_count += 1\n",
    "\n",
    "    @classmethod\n",
    "    def average_salary(cls, employees):\n",
    "        total_salary = sum(emp.salary for emp in employees)\n",
    "        return round(total_salary / len(employees), 2) if employees else 0\n",
    "\n",
    "class FulltimeEmployee(Employee):\n",
    "    def __init__(self, name, family, salary, department):\n",
    "        super().__init__(name, family, salary, department)\n",
    "\n",
    "emp1 = Employee(\"santhosh\", \"katta\", 100000, \"engineer\")\n",
    "emp2 = Employee(\"dinesh\", \"kumar\", 60000, \"HR\")\n",
    "fulltime_emp1 = FulltimeEmployee(\"raju\", \"dev\", 70000, \"IT\")\n",
    "\n",
    "employees = [emp1, emp2, fulltime_emp1]\n",
    "\n",
    "print(f\"Total number of employees: {Employee.employee_count}\")\n",
    "print(f\"Average salary of employees: {Employee.average_salary(employees)}\")\n"
   ]
  },
  {
   "cell_type": "code",
   "execution_count": 8,
   "id": "5a26a372-5858-494d-8bea-b4d6cd5facde",
   "metadata": {},
   "outputs": [
    {
     "name": "stdout",
     "output_type": "stream",
     "text": [
      "Modified Matrix:\n",
      " [[ 7.18587016  6.34807352  3.56818704  0.          2.82862174]\n",
      " [16.63665315  0.          1.41507093 15.24933691  9.48978593]\n",
      " [ 3.74845189 10.58591621 17.27981452  0.         12.19657969]\n",
      " [11.38750776  5.7796866   0.          7.3268388   5.37638867]]\n"
     ]
    }
   ],
   "source": [
    "import numpy as np\n",
    "\n",
    "vector = np.random.uniform(1, 20, 20)\n",
    "matrix = vector.reshape(4, 5)\n",
    "matrix[np.arange(matrix.shape[0]), matrix.argmax(axis=1)] = 0\n",
    "\n",
    "print(\"Modified Matrix:\\n\", matrix)\n"
   ]
  },
  {
   "cell_type": "code",
   "execution_count": null,
   "id": "73726b08-7936-47e3-9df5-3d5cc05bc240",
   "metadata": {},
   "outputs": [],
   "source": []
  },
  {
   "cell_type": "markdown",
   "id": "31f45607-298e-497e-b0d8-bca667e77266",
   "metadata": {},
   "source": [
    "this is an [icp2 video link](https://drive.google.com/file/d/10L8XVlB8cM2lYbODv_QQENR4VMeFDEs0/view?usp=sharing)."
   ]
  }
 ],
 "metadata": {
  "kernelspec": {
   "display_name": "Python 3 (ipykernel)",
   "language": "python",
   "name": "python3"
  },
  "language_info": {
   "codemirror_mode": {
    "name": "ipython",
    "version": 3
   },
   "file_extension": ".py",
   "mimetype": "text/x-python",
   "name": "python",
   "nbconvert_exporter": "python",
   "pygments_lexer": "ipython3",
   "version": "3.13.1"
  }
 },
 "nbformat": 4,
 "nbformat_minor": 5
}
